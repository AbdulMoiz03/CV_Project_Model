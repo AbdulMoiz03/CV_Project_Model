{
 "cells": [
  {
   "cell_type": "code",
   "execution_count": 1,
   "id": "f7d63514",
   "metadata": {},
   "outputs": [
    {
     "name": "stdout",
     "output_type": "stream",
     "text": [
      "Collecting Flask\n",
      "  Downloading flask-3.1.0-py3-none-any.whl (102 kB)\n",
      "     ------------------------------------ 103.0/103.0 kB 350.0 kB/s eta 0:00:00\n",
      "Requirement already satisfied: tensorflow in d:\\8th semester\\computer vision\\cv_project\\fine_tuning\\virtual-env\\lib\\site-packages (2.15.0)\n",
      "Collecting itsdangerous>=2.2\n",
      "  Downloading itsdangerous-2.2.0-py3-none-any.whl (16 kB)\n",
      "Collecting click>=8.1.3\n",
      "  Downloading click-8.1.8-py3-none-any.whl (98 kB)\n",
      "     ---------------------------------------- 98.2/98.2 kB 1.4 MB/s eta 0:00:00\n",
      "Requirement already satisfied: Jinja2>=3.1.2 in d:\\8th semester\\computer vision\\cv_project\\fine_tuning\\virtual-env\\lib\\site-packages (from Flask) (3.1.6)\n",
      "Requirement already satisfied: Werkzeug>=3.1 in d:\\8th semester\\computer vision\\cv_project\\fine_tuning\\virtual-env\\lib\\site-packages (from Flask) (3.1.3)\n",
      "Collecting blinker>=1.9\n",
      "  Downloading blinker-1.9.0-py3-none-any.whl (8.5 kB)\n",
      "Requirement already satisfied: tensorflow-intel==2.15.0 in d:\\8th semester\\computer vision\\cv_project\\fine_tuning\\virtual-env\\lib\\site-packages (from tensorflow) (2.15.0)\n",
      "Requirement already satisfied: tensorboard<2.16,>=2.15 in d:\\8th semester\\computer vision\\cv_project\\fine_tuning\\virtual-env\\lib\\site-packages (from tensorflow-intel==2.15.0->tensorflow) (2.15.2)\n",
      "Requirement already satisfied: libclang>=13.0.0 in d:\\8th semester\\computer vision\\cv_project\\fine_tuning\\virtual-env\\lib\\site-packages (from tensorflow-intel==2.15.0->tensorflow) (18.1.1)\n",
      "Requirement already satisfied: keras<2.16,>=2.15.0 in d:\\8th semester\\computer vision\\cv_project\\fine_tuning\\virtual-env\\lib\\site-packages (from tensorflow-intel==2.15.0->tensorflow) (2.15.0)\n",
      "Requirement already satisfied: tensorflow-io-gcs-filesystem>=0.23.1 in d:\\8th semester\\computer vision\\cv_project\\fine_tuning\\virtual-env\\lib\\site-packages (from tensorflow-intel==2.15.0->tensorflow) (0.31.0)\n",
      "Requirement already satisfied: h5py>=2.9.0 in d:\\8th semester\\computer vision\\cv_project\\fine_tuning\\virtual-env\\lib\\site-packages (from tensorflow-intel==2.15.0->tensorflow) (3.13.0)\n",
      "Requirement already satisfied: setuptools in d:\\8th semester\\computer vision\\cv_project\\fine_tuning\\virtual-env\\lib\\site-packages (from tensorflow-intel==2.15.0->tensorflow) (65.5.0)\n",
      "Requirement already satisfied: six>=1.12.0 in d:\\8th semester\\computer vision\\cv_project\\fine_tuning\\virtual-env\\lib\\site-packages (from tensorflow-intel==2.15.0->tensorflow) (1.17.0)\n",
      "Requirement already satisfied: typing-extensions>=3.6.6 in d:\\8th semester\\computer vision\\cv_project\\fine_tuning\\virtual-env\\lib\\site-packages (from tensorflow-intel==2.15.0->tensorflow) (4.13.2)\n",
      "Requirement already satisfied: ml-dtypes~=0.2.0 in d:\\8th semester\\computer vision\\cv_project\\fine_tuning\\virtual-env\\lib\\site-packages (from tensorflow-intel==2.15.0->tensorflow) (0.2.0)\n",
      "Requirement already satisfied: flatbuffers>=23.5.26 in d:\\8th semester\\computer vision\\cv_project\\fine_tuning\\virtual-env\\lib\\site-packages (from tensorflow-intel==2.15.0->tensorflow) (25.2.10)\n",
      "Requirement already satisfied: gast!=0.5.0,!=0.5.1,!=0.5.2,>=0.2.1 in d:\\8th semester\\computer vision\\cv_project\\fine_tuning\\virtual-env\\lib\\site-packages (from tensorflow-intel==2.15.0->tensorflow) (0.6.0)\n",
      "Requirement already satisfied: opt-einsum>=2.3.2 in d:\\8th semester\\computer vision\\cv_project\\fine_tuning\\virtual-env\\lib\\site-packages (from tensorflow-intel==2.15.0->tensorflow) (3.4.0)\n",
      "Requirement already satisfied: termcolor>=1.1.0 in d:\\8th semester\\computer vision\\cv_project\\fine_tuning\\virtual-env\\lib\\site-packages (from tensorflow-intel==2.15.0->tensorflow) (3.0.1)\n",
      "Requirement already satisfied: absl-py>=1.0.0 in d:\\8th semester\\computer vision\\cv_project\\fine_tuning\\virtual-env\\lib\\site-packages (from tensorflow-intel==2.15.0->tensorflow) (2.2.2)\n",
      "Requirement already satisfied: astunparse>=1.6.0 in d:\\8th semester\\computer vision\\cv_project\\fine_tuning\\virtual-env\\lib\\site-packages (from tensorflow-intel==2.15.0->tensorflow) (1.6.3)\n",
      "Requirement already satisfied: numpy<2.0.0,>=1.23.5 in d:\\8th semester\\computer vision\\cv_project\\fine_tuning\\virtual-env\\lib\\site-packages (from tensorflow-intel==2.15.0->tensorflow) (1.26.4)\n",
      "Requirement already satisfied: wrapt<1.15,>=1.11.0 in d:\\8th semester\\computer vision\\cv_project\\fine_tuning\\virtual-env\\lib\\site-packages (from tensorflow-intel==2.15.0->tensorflow) (1.14.1)\n",
      "Requirement already satisfied: grpcio<2.0,>=1.24.3 in d:\\8th semester\\computer vision\\cv_project\\fine_tuning\\virtual-env\\lib\\site-packages (from tensorflow-intel==2.15.0->tensorflow) (1.71.0)\n",
      "Requirement already satisfied: google-pasta>=0.1.1 in d:\\8th semester\\computer vision\\cv_project\\fine_tuning\\virtual-env\\lib\\site-packages (from tensorflow-intel==2.15.0->tensorflow) (0.2.0)\n",
      "Requirement already satisfied: protobuf!=4.21.0,!=4.21.1,!=4.21.2,!=4.21.3,!=4.21.4,!=4.21.5,<5.0.0dev,>=3.20.3 in d:\\8th semester\\computer vision\\cv_project\\fine_tuning\\virtual-env\\lib\\site-packages (from tensorflow-intel==2.15.0->tensorflow) (4.25.6)\n",
      "Requirement already satisfied: tensorflow-estimator<2.16,>=2.15.0 in d:\\8th semester\\computer vision\\cv_project\\fine_tuning\\virtual-env\\lib\\site-packages (from tensorflow-intel==2.15.0->tensorflow) (2.15.0)\n",
      "Requirement already satisfied: packaging in d:\\8th semester\\computer vision\\cv_project\\fine_tuning\\virtual-env\\lib\\site-packages (from tensorflow-intel==2.15.0->tensorflow) (24.2)\n",
      "Requirement already satisfied: colorama in d:\\8th semester\\computer vision\\cv_project\\fine_tuning\\virtual-env\\lib\\site-packages (from click>=8.1.3->Flask) (0.4.6)\n",
      "Requirement already satisfied: MarkupSafe>=2.0 in d:\\8th semester\\computer vision\\cv_project\\fine_tuning\\virtual-env\\lib\\site-packages (from Jinja2>=3.1.2->Flask) (3.0.2)\n",
      "Requirement already satisfied: wheel<1.0,>=0.23.0 in d:\\8th semester\\computer vision\\cv_project\\fine_tuning\\virtual-env\\lib\\site-packages (from astunparse>=1.6.0->tensorflow-intel==2.15.0->tensorflow) (0.45.1)\n",
      "Requirement already satisfied: markdown>=2.6.8 in d:\\8th semester\\computer vision\\cv_project\\fine_tuning\\virtual-env\\lib\\site-packages (from tensorboard<2.16,>=2.15->tensorflow-intel==2.15.0->tensorflow) (3.8)\n",
      "Requirement already satisfied: google-auth<3,>=1.6.3 in d:\\8th semester\\computer vision\\cv_project\\fine_tuning\\virtual-env\\lib\\site-packages (from tensorboard<2.16,>=2.15->tensorflow-intel==2.15.0->tensorflow) (2.39.0)\n",
      "Requirement already satisfied: requests<3,>=2.21.0 in d:\\8th semester\\computer vision\\cv_project\\fine_tuning\\virtual-env\\lib\\site-packages (from tensorboard<2.16,>=2.15->tensorflow-intel==2.15.0->tensorflow) (2.32.3)\n",
      "Requirement already satisfied: tensorboard-data-server<0.8.0,>=0.7.0 in d:\\8th semester\\computer vision\\cv_project\\fine_tuning\\virtual-env\\lib\\site-packages (from tensorboard<2.16,>=2.15->tensorflow-intel==2.15.0->tensorflow) (0.7.2)\n",
      "Requirement already satisfied: google-auth-oauthlib<2,>=0.5 in d:\\8th semester\\computer vision\\cv_project\\fine_tuning\\virtual-env\\lib\\site-packages (from tensorboard<2.16,>=2.15->tensorflow-intel==2.15.0->tensorflow) (1.2.1)\n",
      "Requirement already satisfied: cachetools<6.0,>=2.0.0 in d:\\8th semester\\computer vision\\cv_project\\fine_tuning\\virtual-env\\lib\\site-packages (from google-auth<3,>=1.6.3->tensorboard<2.16,>=2.15->tensorflow-intel==2.15.0->tensorflow) (5.5.2)\n",
      "Requirement already satisfied: rsa<5,>=3.1.4 in d:\\8th semester\\computer vision\\cv_project\\fine_tuning\\virtual-env\\lib\\site-packages (from google-auth<3,>=1.6.3->tensorboard<2.16,>=2.15->tensorflow-intel==2.15.0->tensorflow) (4.9.1)\n",
      "Requirement already satisfied: pyasn1-modules>=0.2.1 in d:\\8th semester\\computer vision\\cv_project\\fine_tuning\\virtual-env\\lib\\site-packages (from google-auth<3,>=1.6.3->tensorboard<2.16,>=2.15->tensorflow-intel==2.15.0->tensorflow) (0.4.2)\n",
      "Requirement already satisfied: requests-oauthlib>=0.7.0 in d:\\8th semester\\computer vision\\cv_project\\fine_tuning\\virtual-env\\lib\\site-packages (from google-auth-oauthlib<2,>=0.5->tensorboard<2.16,>=2.15->tensorflow-intel==2.15.0->tensorflow) (2.0.0)\n",
      "Requirement already satisfied: charset-normalizer<4,>=2 in d:\\8th semester\\computer vision\\cv_project\\fine_tuning\\virtual-env\\lib\\site-packages (from requests<3,>=2.21.0->tensorboard<2.16,>=2.15->tensorflow-intel==2.15.0->tensorflow) (3.4.1)\n",
      "Requirement already satisfied: idna<4,>=2.5 in d:\\8th semester\\computer vision\\cv_project\\fine_tuning\\virtual-env\\lib\\site-packages (from requests<3,>=2.21.0->tensorboard<2.16,>=2.15->tensorflow-intel==2.15.0->tensorflow) (3.10)\n",
      "Requirement already satisfied: certifi>=2017.4.17 in d:\\8th semester\\computer vision\\cv_project\\fine_tuning\\virtual-env\\lib\\site-packages (from requests<3,>=2.21.0->tensorboard<2.16,>=2.15->tensorflow-intel==2.15.0->tensorflow) (2025.1.31)\n",
      "Requirement already satisfied: urllib3<3,>=1.21.1 in d:\\8th semester\\computer vision\\cv_project\\fine_tuning\\virtual-env\\lib\\site-packages (from requests<3,>=2.21.0->tensorboard<2.16,>=2.15->tensorflow-intel==2.15.0->tensorflow) (2.4.0)\n",
      "Requirement already satisfied: pyasn1<0.7.0,>=0.6.1 in d:\\8th semester\\computer vision\\cv_project\\fine_tuning\\virtual-env\\lib\\site-packages (from pyasn1-modules>=0.2.1->google-auth<3,>=1.6.3->tensorboard<2.16,>=2.15->tensorflow-intel==2.15.0->tensorflow) (0.6.1)\n",
      "Requirement already satisfied: oauthlib>=3.0.0 in d:\\8th semester\\computer vision\\cv_project\\fine_tuning\\virtual-env\\lib\\site-packages (from requests-oauthlib>=0.7.0->google-auth-oauthlib<2,>=0.5->tensorboard<2.16,>=2.15->tensorflow-intel==2.15.0->tensorflow) (3.2.2)\n",
      "Installing collected packages: itsdangerous, click, blinker, Flask\n",
      "Successfully installed Flask-3.1.0 blinker-1.9.0 click-8.1.8 itsdangerous-2.2.0\n",
      "Note: you may need to restart the kernel to use updated packages.\n"
     ]
    },
    {
     "name": "stderr",
     "output_type": "stream",
     "text": [
      "\n",
      "[notice] A new release of pip available: 22.3.1 -> 25.1\n",
      "[notice] To update, run: python.exe -m pip install --upgrade pip\n"
     ]
    }
   ],
   "source": [
    "pip install Flask tensorflow\n"
   ]
  },
  {
   "cell_type": "code",
   "execution_count": 2,
   "id": "977c9628",
   "metadata": {},
   "outputs": [
    {
     "name": "stdout",
     "output_type": "stream",
     "text": [
      "WARNING:tensorflow:From d:\\8th Semester\\Computer Vision\\CV_Project\\Fine_Tuning\\virtual-env\\lib\\site-packages\\keras\\src\\losses.py:2976: The name tf.losses.sparse_softmax_cross_entropy is deprecated. Please use tf.compat.v1.losses.sparse_softmax_cross_entropy instead.\n",
      "\n",
      "WARNING:tensorflow:From d:\\8th Semester\\Computer Vision\\CV_Project\\Fine_Tuning\\virtual-env\\lib\\site-packages\\keras\\src\\backend.py:1398: The name tf.executing_eagerly_outside_functions is deprecated. Please use tf.compat.v1.executing_eagerly_outside_functions instead.\n",
      "\n",
      " * Serving Flask app '__main__'\n",
      " * Debug mode: off\n"
     ]
    },
    {
     "name": "stderr",
     "output_type": "stream",
     "text": [
      "WARNING: This is a development server. Do not use it in a production deployment. Use a production WSGI server instead.\n",
      " * Running on all addresses (0.0.0.0)\n",
      " * Running on http://127.0.0.1:5000\n",
      " * Running on http://192.168.184.220:5000\n",
      "Press CTRL+C to quit\n"
     ]
    }
   ],
   "source": [
    "from flask import Flask, request, jsonify\n",
    "from tensorflow.keras.models import load_model\n",
    "import numpy as np\n",
    "from PIL import Image\n",
    "import io\n",
    "\n",
    "app = Flask(__name__)\n",
    "model = load_model('model/landmark_recognition_model.h5')\n",
    "\n",
    "@app.route('/predict', methods=['POST'])\n",
    "def predict():\n",
    "    file = request.files['file']\n",
    "    img = Image.open(file.stream).resize((224, 224))  # Resize if needed\n",
    "    img_array = np.array(img) / 255.0\n",
    "    img_array = np.expand_dims(img_array, axis=0)  # Add batch dimension\n",
    "\n",
    "    predictions = model.predict(img_array)\n",
    "    predicted_class = np.argmax(predictions[0])\n",
    "\n",
    "    return jsonify({'predicted_class': int(predicted_class)})\n",
    "\n",
    "if __name__ == '__main__':\n",
    "    app.run(host='0.0.0.0', port=5000)\n"
   ]
  }
 ],
 "metadata": {
  "kernelspec": {
   "display_name": "virtual-env",
   "language": "python",
   "name": "python3"
  },
  "language_info": {
   "codemirror_mode": {
    "name": "ipython",
    "version": 3
   },
   "file_extension": ".py",
   "mimetype": "text/x-python",
   "name": "python",
   "nbconvert_exporter": "python",
   "pygments_lexer": "ipython3",
   "version": "3.10.9"
  }
 },
 "nbformat": 4,
 "nbformat_minor": 5
}
